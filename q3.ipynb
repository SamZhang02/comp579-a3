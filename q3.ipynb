{
 "cells": [
  {
   "cell_type": "code",
   "execution_count": 3,
   "id": "e263c97c3bcfe02c",
   "metadata": {
    "collapsed": false,
    "ExecuteTime": {
     "end_time": "2024-03-14T02:46:34.835525Z",
     "start_time": "2024-03-14T02:46:34.543135Z"
    }
   },
   "outputs": [],
   "source": [
    "from abc import ABC, abstractmethod\n",
    "import numpy as np\n",
    "import gymnasium as gym\n",
    "import matplotlib.pyplot as plt\n",
    "\n",
    "from tqdm import tqdm\n",
    "\n",
    "import lib  #helper functions"
   ]
  },
  {
   "cell_type": "code",
   "outputs": [],
   "source": [
    "class Agent(ABC):\n",
    "  def __init__(self, env: gym.Env, epsilon=0.1, alpha=0.1, gamma=1, num_tilings=8,\n",
    "               tiles_per_tiling=10):\n",
    "    self.env = env\n",
    "    self.epsilon = epsilon  # epsilon greedy\n",
    "    self.alpha = alpha  # learning rate\n",
    "    self.gamma = gamma  # discount factor\n",
    "    self.num_tilings = num_tilings\n",
    "    self.tiles_per_tiling = tiles_per_tiling\n",
    "\n",
    "    self.tile_coder = lib.TileCoder(self.num_tilings,\n",
    "                                    self.tiles_per_tiling,\n",
    "                                    list(zip(env.observation_space.low,\n",
    "                                             env.observation_space.high)))\n",
    "\n",
    "    self.thetas = None\n",
    "    self.trajectory: List[Tuple['state_t', 'action_t', 'reward_t']] = list()\n",
    "    self.reset()\n",
    "\n",
    "  def z(self, state, action) -> float:\n",
    "    features = self.tile_coder.encode(state)  # binary vec\n",
    "\n",
    "    return np.sum(self.thetas[action] * features)\n",
    "\n",
    "  def select_action(self, state, temp=1) -> int:\n",
    "    z_values = np.array([self.z(state, a) for a in range(self.env.action_space.n)])\n",
    "    probabilities = np.exp(z_values / temp) / np.sum(np.exp(z_values / temp))\n",
    "\n",
    "    action = np.random.choice(self.env.action_space.n, p=probabilities)\n",
    "    return action\n",
    "\n",
    "  @abstractmethod\n",
    "  def update(self, state, action, reward, next_state, next_action, done) -> None:\n",
    "    pass\n",
    "\n",
    "  def reset(self):\n",
    "    # params setup\n",
    "    self.thetas = np.random.uniform(-0.001, 0.001,\n",
    "                                    (env.action_space.n, self.tile_coder.total_tiles))\n",
    "\n",
    "\n",
    "class REINFORCE(Agent):\n",
    "  def update(self, state, action, reward, next_state, next_action, done) -> None:\n",
    "    if not done:\n",
    "      return\n",
    "\n",
    "    G = 0  # Store cumulative return\n",
    "    for (st, at, rt) in reversed(self.trajectory):\n",
    "      G = self.gamma * G + rt  # Update return\n",
    "      features = self.tile_coder.encode(st)\n",
    "      # Compute gradient ascent update for theta\n",
    "      grad_ln_pi = features - np.sum(\n",
    "        [self.thetas[a] * features for a in range(self.env.action_space.n)], axis=0)\n",
    "      self.thetas[at] += self.alpha * grad_ln_pi * G\n",
    "\n",
    "    self.trajectory = []  # Clear trajectory\n",
    "\n",
    "\n",
    "class ActorCritic(Agent):\n",
    "  def update(self, state, action, reward, next_state, next_action, done) -> None:\n",
    "    # Get current estimate and next state estimate\n",
    "    current_value = self.z(state, action)\n",
    "    next_value = self.z(next_state, next_action) if not done else 0\n",
    "\n",
    "    # Calculate TD error\n",
    "    delta = reward + self.gamma * next_value - current_value\n",
    "\n",
    "    # Update critic\n",
    "    features = self.tile_coder.encode(state)\n",
    "    self.thetas[action] += self.alpha * delta * features\n",
    "\n",
    "    # Update actor\n",
    "    # Assuming softmax policy, derive the gradient with respect to theta\n",
    "    grad_ln_pi = features - np.sum(\n",
    "      [np.exp(self.z(state, a)) * self.thetas[a] * features for a in\n",
    "       range(self.env.action_space.n)], axis=0) / np.sum(\n",
    "      [np.exp(self.z(state, a)) for a in range(self.env.action_space.n)])\n",
    "    self.thetas[action] += self.alpha * grad_ln_pi * delta\n"
   ],
   "metadata": {
    "collapsed": true,
    "ExecuteTime": {
     "end_time": "2024-03-14T02:46:36.056631Z",
     "start_time": "2024-03-14T02:46:36.053696Z"
    }
   },
   "id": "initial_id",
   "execution_count": 4
  },
  {
   "cell_type": "code",
   "outputs": [],
   "source": [],
   "metadata": {
    "collapsed": false
   },
   "id": "38345b999d27426"
  }
 ],
 "metadata": {
  "kernelspec": {
   "display_name": "Python 3",
   "language": "python",
   "name": "python3"
  },
  "language_info": {
   "codemirror_mode": {
    "name": "ipython",
    "version": 2
   },
   "file_extension": ".py",
   "mimetype": "text/x-python",
   "name": "python",
   "nbconvert_exporter": "python",
   "pygments_lexer": "ipython2",
   "version": "2.7.6"
  }
 },
 "nbformat": 4,
 "nbformat_minor": 5
}
